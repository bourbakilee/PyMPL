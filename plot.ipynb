{
 "cells": [
  {
   "cell_type": "code",
   "execution_count": 1,
   "metadata": {
    "collapsed": false
   },
   "outputs": [],
   "source": [
    "# from Environment import *\n",
    "import TrajectoryGeneration as TG\n",
    "import matplotlib.pyplot as plt\n",
    "import sqlite3"
   ]
  },
  {
   "cell_type": "code",
   "execution_count": 21,
   "metadata": {
    "collapsed": false
   },
   "outputs": [
    {
     "name": "stdout",
     "output_type": "stream",
     "text": [
      "1271\n"
     ]
    }
   ],
   "source": [
    "conn = sqlite3.connect('InitialGuessTable.db')\n",
    "cursor = conn.cursor()\n",
    "cursor.execute('select p1,p2,sg from InitialGuessTable where k0=0 and k1=0 and y1>=0 and theta1>=0')\n",
    "pps = cursor.fetchall()\n",
    "t=0\n",
    "for pp in pps:\n",
    "    if pp[2]>0:\n",
    "        t+=1\n",
    "        path = TG.spiral3_calc(p=(0.,pp[0],pp[1],0.,pp[2]))\n",
    "        plt.plot(path[:,1],path[:,2])\n",
    "print(t)\n",
    "plt.title('k0 = 0, k1 = 0')\n",
    "plt.axis('equal')\n",
    "plt.show()\n",
    "cursor.close()\n",
    "conn.close()\n"
   ]
  },
  {
   "cell_type": "code",
   "execution_count": 22,
   "metadata": {
    "collapsed": false
   },
   "outputs": [
    {
     "name": "stdout",
     "output_type": "stream",
     "text": [
      "1278\n"
     ]
    }
   ],
   "source": [
    "conn = sqlite3.connect('InitialGuessTable.db')\n",
    "cursor = conn.cursor()\n",
    "cursor.execute('select p1,p2,sg from InitialGuessTable where k0=4 and k1=-4 and y1>=0 and theta1>=0')\n",
    "pps = cursor.fetchall()\n",
    "t=0\n",
    "for pp in pps:\n",
    "    if pp[2]>0:\n",
    "        t+=1\n",
    "        path = TG.spiral3_calc(p=(4/40,pp[0],pp[1],-4/40,pp[2]))\n",
    "        plt.plot(path[:,1],path[:,2])\n",
    "print(t)\n",
    "plt.title('k0 = 0.1, k1 = -0.1')\n",
    "plt.axis('equal')\n",
    "plt.show()\n",
    "cursor.close()\n",
    "conn.close()\n"
   ]
  },
  {
   "cell_type": "code",
   "execution_count": null,
   "metadata": {
    "collapsed": true
   },
   "outputs": [],
   "source": []
  },
  {
   "cell_type": "code",
   "execution_count": null,
   "metadata": {
    "collapsed": true
   },
   "outputs": [],
   "source": []
  }
 ],
 "metadata": {
  "kernelspec": {
   "display_name": "Python 3",
   "language": "python",
   "name": "python3"
  },
  "language_info": {
   "codemirror_mode": {
    "name": "ipython",
    "version": 3
   },
   "file_extension": ".py",
   "mimetype": "text/x-python",
   "name": "python",
   "nbconvert_exporter": "python",
   "pygments_lexer": "ipython3",
   "version": "3.5.0"
  }
 },
 "nbformat": 4,
 "nbformat_minor": 0
}
