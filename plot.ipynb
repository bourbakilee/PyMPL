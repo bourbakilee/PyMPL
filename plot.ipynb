{
 "cells": [
  {
   "cell_type": "code",
   "execution_count": 7,
   "metadata": {
    "collapsed": false
   },
   "outputs": [],
   "source": [
    "# from Environment import *\n",
    "import TrajectoryGeneration as TG\n",
    "import matplotlib.pyplot as plt\n",
    "import sqlite3"
   ]
  },
  {
   "cell_type": "code",
   "execution_count": 15,
   "metadata": {
    "collapsed": false
   },
   "outputs": [
    {
     "name": "stdout",
     "output_type": "stream",
     "text": [
      "1293\n"
     ]
    }
   ],
   "source": [
    "conn = sqlite3.connect('InitialGuessTable.db')\n",
    "cursor = conn.cursor()\n",
    "k0,k1=0.2,0.\n",
    "cursor.execute('select p1,p2,sg from InitialGuessTable where k0=? and k1=? and y1>=0 and theta1>=0',(int(k0*40),int(k1*40)))\n",
    "pps = cursor.fetchall()\n",
    "t=0\n",
    "for pp in pps:\n",
    "    if pp[2]>0:\n",
    "        t+=1\n",
    "        path = TG.spiral3_calc(p=(k0,pp[0],pp[1],k1,pp[2]))\n",
    "        plt.plot(path[:,1],path[:,2])\n",
    "print(t)\n",
    "plt.title('k0 = {0}, k1 = {1}'.format(k0,k1))\n",
    "plt.axis('equal')\n",
    "plt.savefig('img/initialguesstable(k0={0}k1={1}).png'.format(k0,k1),dpi=600)\n",
    "plt.show()\n",
    "cursor.close()\n",
    "conn.close()\n"
   ]
  },
  {
   "cell_type": "code",
   "execution_count": 10,
   "metadata": {
    "collapsed": false
   },
   "outputs": [
    {
     "name": "stdout",
     "output_type": "stream",
     "text": [
      "1278\n"
     ]
    }
   ],
   "source": []
  },
  {
   "cell_type": "code",
   "execution_count": 11,
   "metadata": {
    "collapsed": false
   },
   "outputs": [
    {
     "name": "stdout",
     "output_type": "stream",
     "text": [
      "1226\n"
     ]
    }
   ],
   "source": []
  },
  {
   "cell_type": "code",
   "execution_count": null,
   "metadata": {
    "collapsed": true
   },
   "outputs": [],
   "source": []
  }
 ],
 "metadata": {
  "kernelspec": {
   "display_name": "Python 3",
   "language": "python",
   "name": "python3"
  },
  "language_info": {
   "codemirror_mode": {
    "name": "ipython",
    "version": 3
   },
   "file_extension": ".py",
   "mimetype": "text/x-python",
   "name": "python",
   "nbconvert_exporter": "python",
   "pygments_lexer": "ipython3",
   "version": "3.5.0"
  }
 },
 "nbformat": 4,
 "nbformat_minor": 0
}
